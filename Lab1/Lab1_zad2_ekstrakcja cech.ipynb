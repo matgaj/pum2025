{
 "cells": [
  {
   "cell_type": "markdown",
   "metadata": {},
   "source": [
    "W folderze dane_testowe znajdują się pliki .WAV z nagraniami mowy. Nazwa pliku składa się z ID osoby nagranej oraz treści nagrania: 'phrase', gdy osoba mówi całą frazę oraz nazwa samogłoski, gdy wypowiada jedynie samogłoskę (w tym przypadku dodatkowo określona jest wysokość dźwięku - wysoki 'h', niski 'l' lub normalny 'n').\n",
    "\n",
    "Utwórz listę plików, które zawierają nagrania osób o ID wymienionych poniżej:\n",
    "\n",
    "`ids_to_get = [1, 10, 95, 110, 121, 144, 676, 1182, 1204, 1207, 1860, 1897, 1972, 2102, 2145, 2152, 2444]`\n",
    "\n",
    "Sprawdź, ile jest tych plików. Zapisz listę plików do pliku (.TXT lub dowolnego innego, np. używając funkcji np.save). Zgłoś wykonanie tej części zadania - sprawdzimy, czy jest dobrze."
   ]
  },
  {
   "cell_type": "code",
   "execution_count": 1,
   "metadata": {},
   "outputs": [],
   "source": [
    "# Zacznij tutaj od importu potrzebnych bibliotek.\n"
   ]
  },
  {
   "cell_type": "markdown",
   "metadata": {},
   "source": [
    "Plik .zip wgrany do przestrzeni roboczej można wypakować bezpośrednio w notebooku:"
   ]
  },
  {
   "cell_type": "code",
   "execution_count": 2,
   "metadata": {},
   "outputs": [
    {
     "name": "stdout",
     "output_type": "stream",
     "text": [
      "unzip:  cannot find or open dane_testowe.zip, dane_testowe.zip.zip or dane_testowe.zip.ZIP.\n"
     ]
    }
   ],
   "source": [
    "!unzip dane_testowe.zip -d dane_testowe # opcja -d służy do podania docelowego katalogu"
   ]
  },
  {
   "cell_type": "markdown",
   "metadata": {},
   "source": [
    "Do dalszych analiz weź jedynie pliki zawierające całą frazę (a nie pojedyncze samogłoski). Utwórz listę takich plików, zapisz ją do pliku."
   ]
  },
  {
   "cell_type": "code",
   "execution_count": null,
   "metadata": {},
   "outputs": [],
   "source": []
  },
  {
   "cell_type": "markdown",
   "metadata": {},
   "source": [
    "Wczytaj pliki .WAV, które znajdują się na powyższej liście i sprawdź, jaką mają częstotliwość próbkowania, np. używając funkcji [read_wav](https://docs.scipy.org/doc/scipy/reference/generated/scipy.io.wavfile.read.html) (`from scipy.io.wavfile import read as read_wav`). \n",
    "\n",
    "Teraz wystarczy sprawdzić dla jednego sygnału, wszystkie mają taką samą. Przy pracy z nowymi danymi, o których tego nie wiemy, należy sprawdzić, czy na pewno częstotliwość próbkowania wszystkich sygnałów jest taka sama i w razie potrzeby ją odpowiednio zmienić."
   ]
  },
  {
   "cell_type": "code",
   "execution_count": null,
   "metadata": {},
   "outputs": [],
   "source": []
  },
  {
   "cell_type": "markdown",
   "metadata": {},
   "source": [
    "Jeśli chcesz usprawnić pracę w kolejnych zadaniach, możesz zapisać kod wczytujący pliku do skryptu .py - przyda się w kolejnych zadaniach, a dzięki temu nie będzie konieczne kopiowanie kodu (wystarczy zaimportować plik w taki sam sposób, jak biblioteki). Przykładowo zapisujemy plik `my_utils.py` o zawartości:\n",
    "\n",
    "```\n",
    "from scipy.io.wavfile import read as read_wav\n",
    "def read_wavs():\n",
    "    #kod wczytujący wavy z listy plików\n",
    "```\n",
    "\n",
    "W kolejnym notebooku wystarczy wtedy wpisać: `from my_utils import read_wavs` i możemy korzystać z napisanej funkcji (warunek: `my_utils.py` jest w naszym katalogu roboczym). Tworzenie takich plików z operacjami, które często powtarzamy, usprawnia pracę i pomaga uniknąć błędów przy kopiowaniu fragmentów kodu."
   ]
  },
  {
   "cell_type": "markdown",
   "metadata": {},
   "source": [
    "Wylicz i wyświetl spektrogram dowolnego sygnału, np. używając funkcji [spectrogram](https://docs.scipy.org/doc/scipy/reference/generated/scipy.signal.spectrogram.html) z biblioteki scipy (`from scipy.signal import spectrogram`). Sprawdź, jakie wymiary ma macierz zawierająca spektrogram."
   ]
  },
  {
   "cell_type": "code",
   "execution_count": null,
   "metadata": {},
   "outputs": [],
   "source": []
  },
  {
   "cell_type": "markdown",
   "metadata": {},
   "source": [
    "Wylicz spektrogramy pozostałych sygnałów i umieść je w jednej macierzy 3D (liczba sygnałów $\\times$ liczba pasm częstotliwości $\\times$ liczba ramek).\n",
    "\n",
    "Uwaga na długości sygnałów - nie są takie same, więc trzeba albo przyciąć wszystkie spektrogramy do długości liczby ramek najkrótszego, albo wszystkie uzupełnić zerami (tzw. zero-padding) do długości najdłuższego."
   ]
  },
  {
   "cell_type": "code",
   "execution_count": null,
   "metadata": {},
   "outputs": [],
   "source": []
  },
  {
   "cell_type": "markdown",
   "metadata": {},
   "source": [
    "Plikom z nagraniami osób o `ID = [110, 1182, 1897, 2145, 2152, 2444]` przyporządkuj etykietę 1, pozostałym etykietę 0. Wykorzystaj stworzoną wcześniej listę plików, żeby mieć pewność, że do każdego sygnału przypisana jest właściwa etykieta (utwórz wektor zawierający etykiety w takiej kolejności, w jakiej są odpowiednie dane w utworzonej przed chwilą macierzy cech (spektrogramów))."
   ]
  },
  {
   "cell_type": "code",
   "execution_count": null,
   "metadata": {},
   "outputs": [],
   "source": []
  }
 ],
 "metadata": {
  "kernelspec": {
   "display_name": "Python 3 (ipykernel)",
   "language": "python",
   "name": "python3"
  },
  "language_info": {
   "codemirror_mode": {
    "name": "ipython",
    "version": 3
   },
   "file_extension": ".py",
   "mimetype": "text/x-python",
   "name": "python",
   "nbconvert_exporter": "python",
   "pygments_lexer": "ipython3",
   "version": "3.10.12"
  }
 },
 "nbformat": 4,
 "nbformat_minor": 4
}
