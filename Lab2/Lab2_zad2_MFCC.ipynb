{
 "cells": [
  {
   "cell_type": "markdown",
   "id": "66ee9979",
   "metadata": {},
   "source": [
    "W tym zadaniu zajmiemy się ekstrakcją melowo-częstotliwościowych współczynników cepstralnych (MFCC - *mel frequency cepstral coefficients*).\n",
    "\n",
    "MFCC to cechy bardzo często ekstrahowane z sygnałów akustycznych z zakresu słyszalnego, głównie sygnału mowy. Uzyskiwane są poprzez filtrację cepstrum (cepstrum - odwrotna transformata Fouriera z widma wyrażonego w skali logarytmicznej) bankiem filtrów trójkątnych. Filtry te są dobrane tak, by w (dużym) przybliżeniu modelować odpowiedź układu słuchowego człowieka na sygnał akustyczny. Rodzielczość częstotliwościowa słuchu jest wyższa dla niskich częstotliwości, a niższa dla wysokich, więc filtry melowe są węższe dla niskich częstotliwości i szersze dla wysokich.\n",
    "\n",
    "Algorytm ekstrakcji MFCC jest w skrócie opisany np. w skrypcie przedmiotowym na str. 34, [tutaj (str. 14-15)](https://home.agh.edu.pl/~jgalka/dydaktyka/tm/Jakub_Galka_Technologia_Mowy_Wyklady_2021.pdf) lub [tutaj (ang.)](https://speechprocessingbook.aalto.fi/Representations/Melcepstrum.html).\n",
    "\n",
    "1. Wyświetl spektrogram dowolnego sygnału z poprzedniego zadania (folder dane_testowe)."
   ]
  },
  {
   "cell_type": "code",
   "execution_count": null,
   "id": "c59f9ecd",
   "metadata": {},
   "outputs": [],
   "source": []
  },
  {
   "cell_type": "markdown",
   "id": "cf04a712",
   "metadata": {},
   "source": [
    "2. Wyznacz MFCC dla tego samego sygnału - możesz skorzystać np. z biblioteki librosa, która zawiera dużo wysokopoziomowych funkcji do analizy sygnałów:"
   ]
  },
  {
   "cell_type": "code",
   "execution_count": 1,
   "id": "a8ba900c",
   "metadata": {
    "scrolled": false
   },
   "outputs": [],
   "source": [
    "import librosa\n",
    "\n",
    "x, fs = librosa.load('nazwa_pliku.wav')\n",
    "mfcc_20_coeffs = librosa.feature.mfcc(x, sr=fs)\n",
    "print(mfcc_20_coeffs.shape) #pierwszy wymiar - liczba współczynników MFCC, drugi - liczba ramek sygnału"
   ]
  },
  {
   "cell_type": "markdown",
   "id": "c87331b6",
   "metadata": {},
   "source": [
    "Liczba współczynników jest domyślnie ustawiona na 20 i można ją zmienić podając do funkcji argument `n_mfcc`. Najmniejszą często używaną liczbą współczynników jest 13. "
   ]
  },
  {
   "cell_type": "code",
   "execution_count": null,
   "id": "7aca8092",
   "metadata": {},
   "outputs": [],
   "source": [
    "mfcc_13_coeffs = librosa.feature.mfcc(x, sr=fs, n_mfcc=13)"
   ]
  },
  {
   "cell_type": "markdown",
   "id": "feec7510",
   "metadata": {},
   "source": [
    "3. Wyświetl obie zmienne z MFCC jako obraz (funkcja `plt.imshow`). Porównaj wygląd obu obrazów oraz ich wymiary."
   ]
  },
  {
   "cell_type": "code",
   "execution_count": null,
   "id": "fdbf98bb",
   "metadata": {},
   "outputs": [],
   "source": []
  },
  {
   "cell_type": "markdown",
   "id": "89c6e035",
   "metadata": {},
   "source": [
    "4. Wytrenuj klasyfikator analogicznie do zadania 1, ale tym razem na MFCC, a nie na spektrogramach (użyj części kodu z poprzedniego zadania lub zapisanych w tym celu skryptów). Pamiętaj o zachowaniu takiego samego podziału sygnałów na zbiory uczący i testowy (w poprzednim zadaniu trzeba było zapisać listę plików w obu zbiorach do plików - możesz ich użyć lub zastosować taką samą wartość `random_state` w funkcji `train_test_split`)."
   ]
  },
  {
   "cell_type": "code",
   "execution_count": null,
   "id": "ffcbba9f",
   "metadata": {},
   "outputs": [],
   "source": []
  },
  {
   "cell_type": "markdown",
   "id": "152ea773",
   "metadata": {},
   "source": [
    "5. Wylicz metryki sukcesu i oceń, czy zmiana rodzaju użytych cech sygnału ma wpływ na wyniki.\n",
    "Pamiętaj o napisaniu odpowiedzi na platformie upel."
   ]
  },
  {
   "cell_type": "code",
   "execution_count": null,
   "id": "659b37bd",
   "metadata": {},
   "outputs": [],
   "source": []
  }
 ],
 "metadata": {
  "kernelspec": {
   "display_name": "Python 3 (ipykernel)",
   "language": "python",
   "name": "python3"
  },
  "language_info": {
   "codemirror_mode": {
    "name": "ipython",
    "version": 3
   },
   "file_extension": ".py",
   "mimetype": "text/x-python",
   "name": "python",
   "nbconvert_exporter": "python",
   "pygments_lexer": "ipython3",
   "version": "3.9.7"
  }
 },
 "nbformat": 4,
 "nbformat_minor": 5
}
